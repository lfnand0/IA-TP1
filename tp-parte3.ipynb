{
 "cells": [
  {
   "cell_type": "code",
   "execution_count": 1,
   "id": "1c903497-bd9d-4117-bff1-f5704699aca4",
   "metadata": {},
   "outputs": [
    {
     "name": "stdout",
     "output_type": "stream",
     "text": [
      "Requirement already satisfied: imbalanced-learn in c:\\users\\lfnan\\anaconda3\\lib\\site-packages (0.9.1)\n",
      "Requirement already satisfied: scipy>=1.3.2 in c:\\users\\lfnan\\anaconda3\\lib\\site-packages (from imbalanced-learn) (1.7.3)\n",
      "Requirement already satisfied: threadpoolctl>=2.0.0 in c:\\users\\lfnan\\anaconda3\\lib\\site-packages (from imbalanced-learn) (2.2.0)\n",
      "Requirement already satisfied: scikit-learn>=1.1.0 in c:\\users\\lfnan\\anaconda3\\lib\\site-packages (from imbalanced-learn) (1.1.2)\n",
      "Requirement already satisfied: numpy>=1.17.3 in c:\\users\\lfnan\\anaconda3\\lib\\site-packages (from imbalanced-learn) (1.21.5)\n",
      "Requirement already satisfied: joblib>=1.0.0 in c:\\users\\lfnan\\anaconda3\\lib\\site-packages (from imbalanced-learn) (1.1.0)\n"
     ]
    }
   ],
   "source": [
    "!pip install -U imbalanced-learn"
   ]
  },
  {
   "cell_type": "code",
   "execution_count": 37,
   "id": "0422ba69-28dc-430a-bd4a-4d019d04f69a",
   "metadata": {},
   "outputs": [],
   "source": [
    "import pandas as pd\n",
    "import matplotlib.pyplot as plt\n",
    "import numpy as np\n",
    "from sklearn import tree\n",
    "from sklearn.tree import DecisionTreeClassifier\n",
    "from sklearn.ensemble import RandomForestClassifier\n",
    "from sklearn.naive_bayes import GaussianNB\n",
    "from sklearn.model_selection import train_test_split\n",
    "from sklearn.metrics import accuracy_score\n",
    "from sklearn.metrics import ConfusionMatrixDisplay\n",
    "from sklearn.metrics import confusion_matrix\n",
    "from sklearn.preprocessing import LabelEncoder\n",
    "import seaborn as sns\n",
    "from sklearn.impute import KNNImputer\n",
    "\n",
    "from imblearn.over_sampling import SMOTE "
   ]
  },
  {
   "cell_type": "code",
   "execution_count": 38,
   "id": "1215d269-1045-44ff-943d-850212aeb731",
   "metadata": {},
   "outputs": [],
   "source": [
    "# TRABALHO PRÁTICO 1 - Parte 3\n",
    "# Alunos: Gabriel Sebe Lucchesi Barbosa; Luiz Fernando Oliveira Maciel; Priscila Goulart Carvalho; Thayris Gabriela Ferreira Rodrigues; Vinícius Ferreira Souza\n",
    "\n",
    "col_names = ['sbp', 'tobacco', 'ldl', 'adiposity', 'famhist', 'typea', 'obesity', 'alcohol', 'age', 'chd']\n",
    "feature_cols = col_names[:9]\n",
    "\n",
    "data = pd.read_csv(\"./cardiovascular.csv\", header=0, names=col_names, delimiter=';', encoding='ISO-8859-1')"
   ]
  },
  {
   "cell_type": "code",
   "execution_count": 39,
   "id": "22d1d8ef-dd23-49a4-841e-ea8a5263c9d2",
   "metadata": {},
   "outputs": [],
   "source": [
    "# Conversão dos valores nominais para numéricos\n",
    "data = data.values\n",
    "\n",
    "label_encoder = LabelEncoder()\n",
    "data[:,4] = label_encoder.fit_transform(data[:,4]).astype('int') \n",
    "data = pd.DataFrame(data, columns=col_names)\n",
    "\n",
    "X = data[feature_cols] # Atributos de entrada\n",
    "Y = data.chd # Atributo de classificação\n",
    "Y = Y.astype('int')"
   ]
  },
  {
   "cell_type": "code",
   "execution_count": 40,
   "id": "78e6bcab-3af3-4b2e-94cd-bdb0a219e3cd",
   "metadata": {},
   "outputs": [],
   "source": [
    "# Divisão dos dados de treinamento e de teste\n",
    "X_train, X_test, y_train, y_test = train_test_split(X, Y, test_size=0.2, random_state=1) # 80/20\n",
    "train = pd.concat([X_train, y_train], axis=1, join='inner')"
   ]
  },
  {
   "cell_type": "code",
   "execution_count": 41,
   "id": "556ebf1a-4373-49ab-8ce5-71a992281ca1",
   "metadata": {},
   "outputs": [],
   "source": [
    "y_train = train.chd\n",
    "X_train = train.drop(columns=\"chd\")"
   ]
  },
  {
   "cell_type": "code",
   "execution_count": 42,
   "id": "5d5c221b-0ec1-4db8-b36d-4c2e4178077a",
   "metadata": {},
   "outputs": [
    {
     "name": "stdout",
     "output_type": "stream",
     "text": [
      "Before oversampling:\n",
      " 0    236\n",
      "1    133\n",
      "Name: chd, dtype: int64\n"
     ]
    },
    {
     "data": {
      "image/png": "[encoded data removed]",
      "text/plain": [
       "<Figure size 432x288 with 1 Axes>"
      ]
     },
     "metadata": {},
     "output_type": "display_data"
    },
    {
     "name": "stdout",
     "output_type": "stream",
     "text": [
      "----\n",
      "After oversampling:\n",
      " 1    236\n",
      "0    236\n",
      "Name: chd, dtype: int64\n"
     ]
    },
    {
     "data": {
      "image/png": "[encoded data removed]",
      "text/plain": [
       "<Figure size 432x288 with 1 Axes>"
      ]
     },
     "metadata": {},
     "output_type": "display_data"
    }
   ],
   "source": [
    "# Balanceamento: Usando Oversampling\n",
    "print(\"Before oversampling:\\n\", y_train.value_counts())\n",
    "y_train.value_counts().plot.pie(autopct='%.2f')\n",
    "plt.show()\n",
    "print(\"----\")\n",
    "\n",
    "sm = SMOTE(random_state=12)\n",
    "X_train,y_train = sm.fit_resample(X_train,y_train)\n",
    "\n",
    "print(\"After oversampling:\\n\", y_train.value_counts())\n",
    "y_train.value_counts().plot.pie(autopct='%.2f')\n",
    "plt.show()"
   ]
  },
  {
   "cell_type": "code",
   "execution_count": 43,
   "id": "bd8dcfe2-d835-4ec8-8480-48098fd1d472",
   "metadata": {},
   "outputs": [],
   "source": [
    "# Treinamento: Usando Naïve Bayes\n",
    "model = GaussianNB()\n",
    "model = model.fit(X_train,y_train)"
   ]
  },
  {
   "cell_type": "code",
   "execution_count": 24,
   "id": "59228338-b436-4624-ade7-24a3c1f3a2b1",
   "metadata": {},
   "outputs": [],
   "source": [
    "# Treinamento: Usando Decision Tree\n",
    "#model = DecisionTreeClassifier()\n",
    "#model = model.fit(X_train,y_train)"
   ]
  },
  {
   "cell_type": "code",
   "execution_count": 34,
   "id": "390b1c54-913b-491a-aa56-d7c4003cd70e",
   "metadata": {},
   "outputs": [],
   "source": [
    "# Treinamento: Usando Random Forest\n",
    "#model = RandomForestClassifier()\n",
    "#model = model.fit(X_train,y_train)"
   ]
  },
  {
   "cell_type": "code",
   "execution_count": 44,
   "id": "4311968d-e4aa-4476-8386-029fd2e475a7",
   "metadata": {},
   "outputs": [
    {
     "name": "stdout",
     "output_type": "stream",
     "text": [
      "[0 0 1 0 1 0 0 0 0 1 1 0 0 1 0 1 0 0 0 0 0 0 0 0 0 1 0 0 1 1 0 0 0 0 1 1 0\n",
      " 0 0 1 0 0 0 1 0 0 1 0 1 0 1 1 0 1 1 0 0 0 1 1 0 0 1 0 1 1 1 1 0 0 0 0 1 0\n",
      " 0 0 0 1 0 0 1 1 0 1 1 0 0 1 0 1 0 0 1]\n",
      "[0 0 1 0 0 0 0 1 0 1 0 0 0 0 1 1 1 0 1 0 1 0 0 0 0 1 0 1 1 1 0 0 0 0 0 0 0\n",
      " 1 0 1 0 0 0 0 0 1 1 0 0 0 0 1 0 1 1 0 0 0 0 0 0 1 1 0 0 1 0 1 0 0 0 0 0 0\n",
      " 0 0 0 0 0 0 0 1 0 1 1 0 0 1 0 0 0 0 0]\n"
     ]
    }
   ],
   "source": [
    "# Teste\n",
    "y_pred = model.predict(X_test)\n",
    "print(y_pred)\n",
    "print(y_test.values)"
   ]
  },
  {
   "cell_type": "code",
   "execution_count": 45,
   "id": "5b042d7f-8fca-49ec-b854-2b2c02adaa8a",
   "metadata": {},
   "outputs": [
    {
     "data": {
      "image/png": "[encoded data removed]",
      "text/plain": [
       "<Figure size 432x288 with 2 Axes>"
      ]
     },
     "metadata": {
      "needs_background": "light"
     },
     "output_type": "display_data"
    },
    {
     "name": "stdout",
     "output_type": "stream",
     "text": [
      "TPR: 0.7424242424242424\n",
      "FNR: 0.25757575757575757\n",
      "TNR: 0.3103448275862069\n",
      "FPR: 0.3333333333333333\n",
      "Precision: 0.8448275862068966\n",
      "F1 Score: 0.7903225806451613\n",
      "Accuracy: 0.7204301075268817\n"
     ]
    }
   ],
   "source": [
    "# Matriz de Confusão\n",
    "matrix = confusion_matrix(y_test.values, y_pred)\n",
    "disp = ConfusionMatrixDisplay(confusion_matrix=matrix, display_labels=model.classes_)\n",
    "disp.plot()\n",
    "plt.show()\n",
    "\n",
    "# Cálculo das métricas\n",
    "TP = matrix[0][0]\n",
    "TN = matrix[1][1]\n",
    "FP = matrix[1][0]\n",
    "FN = matrix[0][1]\n",
    "accuracy = accuracy_score(y_test, y_pred)\n",
    "\n",
    "print(\"TPR:\", TP/(TP+FN))\n",
    "print(\"FNR:\", FN/(TP+FN))\n",
    "print(\"TNR:\", TN/(TP+FP))\n",
    "print(\"FPR:\", FP/(FP+TN))\n",
    "print(\"Precision:\", TP/(TP+FP))\n",
    "print(\"F1 Score:\", (2*TP)/(2*TP+FP+FN))\n",
    "print(\"Accuracy:\", accuracy)"
   ]
  },
  {
   "cell_type": "code",
   "execution_count": 12,
   "id": "b9b0ee4c-02a5-4c46-a949-45bf8f7573d3",
   "metadata": {},
   "outputs": [],
   "source": [
    "# Mostrando a árvore\n",
    "#fig = plt.figure(figsize=(50,30))\n",
    "#_ = tree.plot_tree(model, feature_names=list(X_train.columns), class_names='conc', filled='true')"
   ]
  },
  {
   "cell_type": "code",
   "execution_count": null,
   "id": "3f92ad45-c082-490f-ac04-5db86791399d",
   "metadata": {},
   "outputs": [],
   "source": []
  }
 ],
 "metadata": {
  "kernelspec": {
   "display_name": "Python 3 (ipykernel)",
   "language": "python",
   "name": "python3"
  },
  "language_info": {
   "codemirror_mode": {
    "name": "ipython",
    "version": 3
   },
   "file_extension": ".py",
   "mimetype": "text/x-python",
   "name": "python",
   "nbconvert_exporter": "python",
   "pygments_lexer": "ipython3",
   "version": "3.9.12"
  }
 },
 "nbformat": 4,
 "nbformat_minor": 5
}
